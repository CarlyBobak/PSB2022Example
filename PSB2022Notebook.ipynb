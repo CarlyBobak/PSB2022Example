{
  "nbformat": 4,
  "nbformat_minor": 0,
  "metadata": {
    "colab": {
      "name": "PSB2022Notebook.ipynb",
      "provenance": [],
      "authorship_tag": "ABX9TyPw7qnJA3Ml5nI5AZ4cXKn6",
      "include_colab_link": true
    },
    "kernelspec": {
      "name": "python3",
      "display_name": "Python 3"
    },
    "language_info": {
      "name": "python"
    }
  },
  "cells": [
    {
      "cell_type": "markdown",
      "metadata": {
        "id": "view-in-github",
        "colab_type": "text"
      },
      "source": [
        "<a href=\"https://colab.research.google.com/github/CarlyBobak/PSB2022Example/blob/main/PSB2022Notebook.ipynb\" target=\"_parent\"><img src=\"https://colab.research.google.com/assets/colab-badge.svg\" alt=\"Open In Colab\"/></a>"
      ]
    },
    {
      "cell_type": "markdown",
      "source": [
        "Hello! This is a tutorial for PSB2022 to using Colab for python documentation! This is an example of a text block that can be used to add context for executable code within a notebook environment!\n",
        "\n",
        "Add an image, hyperlinks, etc. using the buttons up above!\n",
        "\n",
        "Text cells are formatted using markdown! Some examples of markdown include: \n",
        "**bold text**, *italic text*, ~strike through text~. But there are many cheat sheets available online.)\n",
        "\n",
        "```\n",
        "# This is formatted as code\n",
        "```\n",
        "\n",
        "[markdown guidance](https://www.markdownguide.org/basic-syntax/)\n",
        "\n",
        "\n",
        "\n",
        "> A great place to describe algorithms!\n",
        "\n",
        "\n",
        "\n",
        "\n",
        "---\n",
        " ## Section break!\n",
        "\n",
        "©\n",
        "\n",
        "⛈\n",
        "\n",
        "$$ \\text{e}^{i\\pi} +1 =0 $$\n",
        "\n",
        "\n",
        "\n",
        "\n",
        "\n"
      ],
      "metadata": {
        "id": "cTEw62zVrq_C"
      }
    },
    {
      "cell_type": "code",
      "execution_count": 9,
      "metadata": {
        "colab": {
          "base_uri": "https://localhost:8080/"
        },
        "id": "m-nM2l3WrL9m",
        "outputId": "1f1cbff7-ae51-45b8-d0cb-e17916851196"
      },
      "outputs": [
        {
          "output_type": "stream",
          "name": "stdout",
          "text": [
            "hello world\n"
          ]
        }
      ],
      "source": [
        "print('hello world')"
      ]
    },
    {
      "cell_type": "markdown",
      "source": [
        "You can run code by pressing the ▶ beside the code chunk, and delete output by clicked the ❌ that shows beside it. Lets try it while using the time package in python, conveniently already accessible in the Colab environment. "
      ],
      "metadata": {
        "id": "zPJnM_VzwE8c"
      }
    },
    {
      "cell_type": "code",
      "source": [
        "import time\n",
        "print(time.ctime())"
      ],
      "metadata": {
        "colab": {
          "base_uri": "https://localhost:8080/"
        },
        "id": "m-E1j_iavYPf",
        "outputId": "46ae7420-a46b-46f8-a296-910059fcf96d"
      },
      "execution_count": 10,
      "outputs": [
        {
          "output_type": "stream",
          "name": "stdout",
          "text": [
            "Mon Jan  3 21:07:53 2022\n"
          ]
        }
      ]
    },
    {
      "cell_type": "markdown",
      "source": [
        "Notebooks run one chunk at a time, allowing for you to take interruptions. Run the following chunk:"
      ],
      "metadata": {
        "id": "3Kue1xwDwtCH"
      }
    },
    {
      "cell_type": "code",
      "source": [
        "time.sleep(5)\n",
        "print(time.ctime())"
      ],
      "metadata": {
        "colab": {
          "base_uri": "https://localhost:8080/"
        },
        "id": "nE5uxjLDw5Na",
        "outputId": "3c1c35b1-6c68-43a2-9d7a-453664600cd7"
      },
      "execution_count": 11,
      "outputs": [
        {
          "output_type": "stream",
          "name": "stdout",
          "text": [
            "Mon Jan  3 21:07:58 2022\n"
          ]
        }
      ]
    },
    {
      "cell_type": "markdown",
      "source": [
        "Note this is not 5 seconds between current time runs, because we took time to set up the new chunks!! If we want to run all chunks in the notebook in order without interruption we can navigate to the 'Runtime' menu above and select 'Run all'. "
      ],
      "metadata": {
        "id": "vXtpxFpcxBuo"
      }
    },
    {
      "cell_type": "markdown",
      "source": [
        "You can save your work in various locations using the 'File' menu above. Currently, your colab notebook will be saved in the google drive you signed in with, but you can also associate it with a Git repository! "
      ],
      "metadata": {
        "id": "E8dHbOjvyI5n"
      }
    }
  ]
}