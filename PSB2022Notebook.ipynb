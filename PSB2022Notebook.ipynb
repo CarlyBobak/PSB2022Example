{
  "nbformat": 4,
  "nbformat_minor": 0,
  "metadata": {
    "colab": {
      "name": "PSB2022Notebook.ipynb",
      "provenance": [],
      "mount_file_id": "1e4CI2EkqFlRN9lvLv3L8onYFZyUs5RXI",
      "authorship_tag": "ABX9TyPmIFcQPoD2AzW26u99XoSX",
      "include_colab_link": true
    },
    "kernelspec": {
      "name": "python3",
      "display_name": "Python 3"
    },
    "language_info": {
      "name": "python"
    }
  },
  "cells": [
    {
      "cell_type": "markdown",
      "metadata": {
        "id": "view-in-github",
        "colab_type": "text"
      },
      "source": [
        "<a href=\"https://colab.research.google.com/github/CarlyBobak/PSB2022Example/blob/main/PSB2022Notebook.ipynb\" target=\"_parent\"><img src=\"https://colab.research.google.com/assets/colab-badge.svg\" alt=\"Open In Colab\"/></a>"
      ]
    },
    {
      "cell_type": "markdown",
      "source": [
        "Hello! This is a tutorial for PSB2022 to using Colab for python documentation! This is an example of a text block that can be used to add context for executable code within a notebook environment!\n",
        "\n",
        "Add an image, hyperlinks, etc. using the buttons up above!\n",
        "\n",
        "Text cells are formatted using markdown! Some examples of markdown include: \n",
        "**bold text**, *italic text*, ~strike through text~. But there are many cheat sheets available online.)\n",
        "\n",
        "```\n",
        "# This is formatted as code\n",
        "```\n",
        "\n",
        "[markdown guidance](https://www.markdownguide.org/basic-syntax/)\n",
        "\n",
        "\n",
        "\n",
        "> A great place to describe algorithms!\n",
        "\n",
        "\n",
        "\n",
        "\n",
        "---\n",
        " ## Section break!\n",
        "\n",
        "©\n",
        "\n",
        "⛈\n",
        "\n",
        "$$ \\text{e}^{i\\pi} +1 =0 $$\n",
        "\n",
        "\n",
        "\n",
        "\n",
        "\n"
      ],
      "metadata": {
        "id": "cTEw62zVrq_C"
      }
    },
    {
      "cell_type": "code",
      "execution_count": 9,
      "metadata": {
        "colab": {
          "base_uri": "https://localhost:8080/"
        },
        "id": "m-nM2l3WrL9m",
        "outputId": "1f1cbff7-ae51-45b8-d0cb-e17916851196"
      },
      "outputs": [
        {
          "output_type": "stream",
          "name": "stdout",
          "text": [
            "hello world\n"
          ]
        }
      ],
      "source": [
        "print('hello world')"
      ]
    },
    {
      "cell_type": "markdown",
      "source": [
        "You can run code by pressing the ▶ beside the code chunk, and delete output by clicked the ❌ that shows beside it. Lets try it while using the time package in python, conveniently already accessible in the Colab environment. "
      ],
      "metadata": {
        "id": "zPJnM_VzwE8c"
      }
    },
    {
      "cell_type": "code",
      "source": [
        "import time\n",
        "print(time.ctime())"
      ],
      "metadata": {
        "colab": {
          "base_uri": "https://localhost:8080/"
        },
        "id": "m-E1j_iavYPf",
        "outputId": "46ae7420-a46b-46f8-a296-910059fcf96d"
      },
      "execution_count": 10,
      "outputs": [
        {
          "output_type": "stream",
          "name": "stdout",
          "text": [
            "Mon Jan  3 21:07:53 2022\n"
          ]
        }
      ]
    },
    {
      "cell_type": "markdown",
      "source": [
        "Notebooks run one chunk at a time, allowing for you to take interruptions. Run the following chunk:"
      ],
      "metadata": {
        "id": "3Kue1xwDwtCH"
      }
    },
    {
      "cell_type": "code",
      "source": [
        "time.sleep(5)\n",
        "print(time.ctime())"
      ],
      "metadata": {
        "colab": {
          "base_uri": "https://localhost:8080/"
        },
        "id": "nE5uxjLDw5Na",
        "outputId": "3c1c35b1-6c68-43a2-9d7a-453664600cd7"
      },
      "execution_count": 11,
      "outputs": [
        {
          "output_type": "stream",
          "name": "stdout",
          "text": [
            "Mon Jan  3 21:07:58 2022\n"
          ]
        }
      ]
    },
    {
      "cell_type": "markdown",
      "source": [
        "Note this is not 5 seconds between current time runs, because we took time to set up the new chunks!! If we want to run all chunks in the notebook in order without interruption we can navigate to the 'Runtime' menu above and select 'Run all'. "
      ],
      "metadata": {
        "id": "vXtpxFpcxBuo"
      }
    },
    {
      "cell_type": "markdown",
      "source": [
        "You can save your work in various locations using the 'File' menu above. Currently, your colab notebook will be saved in the google drive you signed in with, but you can also associate it with a Git repository! "
      ],
      "metadata": {
        "id": "E8dHbOjvyI5n"
      }
    },
    {
      "cell_type": "markdown",
      "source": [
        "We can also share our notebook with collaborators right from Google Drive using the share button in the top right hand corner, just like any other google doc. "
      ],
      "metadata": {
        "id": "_9OA3MCEzWZR"
      }
    },
    {
      "cell_type": "markdown",
      "source": [
        "## Getting Remote Data\n",
        "\n",
        "It is really easy to get remote data and load it into your Colab notebook. Use the following format:\n",
        "\n",
        "```\n",
        "!wget <http link goes here>\n",
        "```\n",
        "\n",
        "Use the link displayed on the last powerpoint slide:\n",
        "\n",
        "https://rcweb.dartmouth.edu/homes/d35398e/data/gapminder/gapminder_all.csv\n"
      ],
      "metadata": {
        "id": "fORzN7eGzpZo"
      }
    },
    {
      "cell_type": "code",
      "source": [
        "!wget https://rcweb.dartmouth.edu/homes/d35398e/data/gapminder/gapminder_all.csv"
      ],
      "metadata": {
        "colab": {
          "base_uri": "https://localhost:8080/"
        },
        "id": "grLs9EHc0BMI",
        "outputId": "12f9cc40-0175-4270-8eaf-0dd0fabb04f5"
      },
      "execution_count": 1,
      "outputs": [
        {
          "output_type": "stream",
          "name": "stdout",
          "text": [
            "--2022-01-04 17:40:40--  https://rcweb.dartmouth.edu/homes/d35398e/data/gapminder/gapminder_all.csv\n",
            "Resolving rcweb.dartmouth.edu (rcweb.dartmouth.edu)... 129.170.171.42\n",
            "Connecting to rcweb.dartmouth.edu (rcweb.dartmouth.edu)|129.170.171.42|:443... connected.\n",
            "HTTP request sent, awaiting response... 200 OK\n",
            "Length: 49082 (48K) [text/csv]\n",
            "Saving to: ‘gapminder_all.csv’\n",
            "\n",
            "gapminder_all.csv   100%[===================>]  47.93K   253KB/s    in 0.2s    \n",
            "\n",
            "2022-01-04 17:40:42 (253 KB/s) - ‘gapminder_all.csv’ saved [49082/49082]\n",
            "\n"
          ]
        }
      ]
    },
    {
      "cell_type": "markdown",
      "source": [
        "And then we can access the data as follows:"
      ],
      "metadata": {
        "id": "DWBe4g3N1fvH"
      }
    },
    {
      "cell_type": "code",
      "source": [
        "import pandas as pd\n",
        "data=pd.read_csv(\"gapminder_all.csv\") #copy from above\n",
        "data.head(5)"
      ],
      "metadata": {
        "colab": {
          "base_uri": "https://localhost:8080/",
          "height": 287
        },
        "id": "_rjdVvff1hkY",
        "outputId": "d736169f-bcd5-4a90-b053-dfcfd19e4d79"
      },
      "execution_count": 2,
      "outputs": [
        {
          "output_type": "execute_result",
          "data": {
            "text/html": [
              "\n",
              "  <div id=\"df-3807488f-c3e0-47c1-a57c-19ce31e2ecb5\">\n",
              "    <div class=\"colab-df-container\">\n",
              "      <div>\n",
              "<style scoped>\n",
              "    .dataframe tbody tr th:only-of-type {\n",
              "        vertical-align: middle;\n",
              "    }\n",
              "\n",
              "    .dataframe tbody tr th {\n",
              "        vertical-align: top;\n",
              "    }\n",
              "\n",
              "    .dataframe thead th {\n",
              "        text-align: right;\n",
              "    }\n",
              "</style>\n",
              "<table border=\"1\" class=\"dataframe\">\n",
              "  <thead>\n",
              "    <tr style=\"text-align: right;\">\n",
              "      <th></th>\n",
              "      <th>continent</th>\n",
              "      <th>country</th>\n",
              "      <th>gdpPercap_1952</th>\n",
              "      <th>gdpPercap_1957</th>\n",
              "      <th>gdpPercap_1962</th>\n",
              "      <th>gdpPercap_1967</th>\n",
              "      <th>gdpPercap_1972</th>\n",
              "      <th>gdpPercap_1977</th>\n",
              "      <th>gdpPercap_1982</th>\n",
              "      <th>gdpPercap_1987</th>\n",
              "      <th>gdpPercap_1992</th>\n",
              "      <th>gdpPercap_1997</th>\n",
              "      <th>gdpPercap_2002</th>\n",
              "      <th>gdpPercap_2007</th>\n",
              "      <th>lifeExp_1952</th>\n",
              "      <th>lifeExp_1957</th>\n",
              "      <th>lifeExp_1962</th>\n",
              "      <th>lifeExp_1967</th>\n",
              "      <th>lifeExp_1972</th>\n",
              "      <th>lifeExp_1977</th>\n",
              "      <th>lifeExp_1982</th>\n",
              "      <th>lifeExp_1987</th>\n",
              "      <th>lifeExp_1992</th>\n",
              "      <th>lifeExp_1997</th>\n",
              "      <th>lifeExp_2002</th>\n",
              "      <th>lifeExp_2007</th>\n",
              "      <th>pop_1952</th>\n",
              "      <th>pop_1957</th>\n",
              "      <th>pop_1962</th>\n",
              "      <th>pop_1967</th>\n",
              "      <th>pop_1972</th>\n",
              "      <th>pop_1977</th>\n",
              "      <th>pop_1982</th>\n",
              "      <th>pop_1987</th>\n",
              "      <th>pop_1992</th>\n",
              "      <th>pop_1997</th>\n",
              "      <th>pop_2002</th>\n",
              "      <th>pop_2007</th>\n",
              "    </tr>\n",
              "  </thead>\n",
              "  <tbody>\n",
              "    <tr>\n",
              "      <th>0</th>\n",
              "      <td>Africa</td>\n",
              "      <td>Algeria</td>\n",
              "      <td>2449.008185</td>\n",
              "      <td>3013.976023</td>\n",
              "      <td>2550.816880</td>\n",
              "      <td>3246.991771</td>\n",
              "      <td>4182.663766</td>\n",
              "      <td>4910.416756</td>\n",
              "      <td>5745.160213</td>\n",
              "      <td>5681.358539</td>\n",
              "      <td>5023.216647</td>\n",
              "      <td>4797.295051</td>\n",
              "      <td>5288.040382</td>\n",
              "      <td>6223.367465</td>\n",
              "      <td>43.077</td>\n",
              "      <td>45.685</td>\n",
              "      <td>48.303</td>\n",
              "      <td>51.407</td>\n",
              "      <td>54.518</td>\n",
              "      <td>58.014</td>\n",
              "      <td>61.368</td>\n",
              "      <td>65.799</td>\n",
              "      <td>67.744</td>\n",
              "      <td>69.152</td>\n",
              "      <td>70.994</td>\n",
              "      <td>72.301</td>\n",
              "      <td>9279525.0</td>\n",
              "      <td>10270856.0</td>\n",
              "      <td>11000948.0</td>\n",
              "      <td>12760499.0</td>\n",
              "      <td>14760787.0</td>\n",
              "      <td>17152804.0</td>\n",
              "      <td>20033753.0</td>\n",
              "      <td>23254956.0</td>\n",
              "      <td>26298373.0</td>\n",
              "      <td>29072015.0</td>\n",
              "      <td>31287142</td>\n",
              "      <td>33333216</td>\n",
              "    </tr>\n",
              "    <tr>\n",
              "      <th>1</th>\n",
              "      <td>Africa</td>\n",
              "      <td>Angola</td>\n",
              "      <td>3520.610273</td>\n",
              "      <td>3827.940465</td>\n",
              "      <td>4269.276742</td>\n",
              "      <td>5522.776375</td>\n",
              "      <td>5473.288005</td>\n",
              "      <td>3008.647355</td>\n",
              "      <td>2756.953672</td>\n",
              "      <td>2430.208311</td>\n",
              "      <td>2627.845685</td>\n",
              "      <td>2277.140884</td>\n",
              "      <td>2773.287312</td>\n",
              "      <td>4797.231267</td>\n",
              "      <td>30.015</td>\n",
              "      <td>31.999</td>\n",
              "      <td>34.000</td>\n",
              "      <td>35.985</td>\n",
              "      <td>37.928</td>\n",
              "      <td>39.483</td>\n",
              "      <td>39.942</td>\n",
              "      <td>39.906</td>\n",
              "      <td>40.647</td>\n",
              "      <td>40.963</td>\n",
              "      <td>41.003</td>\n",
              "      <td>42.731</td>\n",
              "      <td>4232095.0</td>\n",
              "      <td>4561361.0</td>\n",
              "      <td>4826015.0</td>\n",
              "      <td>5247469.0</td>\n",
              "      <td>5894858.0</td>\n",
              "      <td>6162675.0</td>\n",
              "      <td>7016384.0</td>\n",
              "      <td>7874230.0</td>\n",
              "      <td>8735988.0</td>\n",
              "      <td>9875024.0</td>\n",
              "      <td>10866106</td>\n",
              "      <td>12420476</td>\n",
              "    </tr>\n",
              "    <tr>\n",
              "      <th>2</th>\n",
              "      <td>Africa</td>\n",
              "      <td>Benin</td>\n",
              "      <td>1062.752200</td>\n",
              "      <td>959.601080</td>\n",
              "      <td>949.499064</td>\n",
              "      <td>1035.831411</td>\n",
              "      <td>1085.796879</td>\n",
              "      <td>1029.161251</td>\n",
              "      <td>1277.897616</td>\n",
              "      <td>1225.856010</td>\n",
              "      <td>1191.207681</td>\n",
              "      <td>1232.975292</td>\n",
              "      <td>1372.877931</td>\n",
              "      <td>1441.284873</td>\n",
              "      <td>38.223</td>\n",
              "      <td>40.358</td>\n",
              "      <td>42.618</td>\n",
              "      <td>44.885</td>\n",
              "      <td>47.014</td>\n",
              "      <td>49.190</td>\n",
              "      <td>50.904</td>\n",
              "      <td>52.337</td>\n",
              "      <td>53.919</td>\n",
              "      <td>54.777</td>\n",
              "      <td>54.406</td>\n",
              "      <td>56.728</td>\n",
              "      <td>1738315.0</td>\n",
              "      <td>1925173.0</td>\n",
              "      <td>2151895.0</td>\n",
              "      <td>2427334.0</td>\n",
              "      <td>2761407.0</td>\n",
              "      <td>3168267.0</td>\n",
              "      <td>3641603.0</td>\n",
              "      <td>4243788.0</td>\n",
              "      <td>4981671.0</td>\n",
              "      <td>6066080.0</td>\n",
              "      <td>7026113</td>\n",
              "      <td>8078314</td>\n",
              "    </tr>\n",
              "    <tr>\n",
              "      <th>3</th>\n",
              "      <td>Africa</td>\n",
              "      <td>Botswana</td>\n",
              "      <td>851.241141</td>\n",
              "      <td>918.232535</td>\n",
              "      <td>983.653976</td>\n",
              "      <td>1214.709294</td>\n",
              "      <td>2263.611114</td>\n",
              "      <td>3214.857818</td>\n",
              "      <td>4551.142150</td>\n",
              "      <td>6205.883850</td>\n",
              "      <td>7954.111645</td>\n",
              "      <td>8647.142313</td>\n",
              "      <td>11003.605080</td>\n",
              "      <td>12569.851770</td>\n",
              "      <td>47.622</td>\n",
              "      <td>49.618</td>\n",
              "      <td>51.520</td>\n",
              "      <td>53.298</td>\n",
              "      <td>56.024</td>\n",
              "      <td>59.319</td>\n",
              "      <td>61.484</td>\n",
              "      <td>63.622</td>\n",
              "      <td>62.745</td>\n",
              "      <td>52.556</td>\n",
              "      <td>46.634</td>\n",
              "      <td>50.728</td>\n",
              "      <td>442308.0</td>\n",
              "      <td>474639.0</td>\n",
              "      <td>512764.0</td>\n",
              "      <td>553541.0</td>\n",
              "      <td>619351.0</td>\n",
              "      <td>781472.0</td>\n",
              "      <td>970347.0</td>\n",
              "      <td>1151184.0</td>\n",
              "      <td>1342614.0</td>\n",
              "      <td>1536536.0</td>\n",
              "      <td>1630347</td>\n",
              "      <td>1639131</td>\n",
              "    </tr>\n",
              "    <tr>\n",
              "      <th>4</th>\n",
              "      <td>Africa</td>\n",
              "      <td>Burkina Faso</td>\n",
              "      <td>543.255241</td>\n",
              "      <td>617.183465</td>\n",
              "      <td>722.512021</td>\n",
              "      <td>794.826560</td>\n",
              "      <td>854.735976</td>\n",
              "      <td>743.387037</td>\n",
              "      <td>807.198586</td>\n",
              "      <td>912.063142</td>\n",
              "      <td>931.752773</td>\n",
              "      <td>946.294962</td>\n",
              "      <td>1037.645221</td>\n",
              "      <td>1217.032994</td>\n",
              "      <td>31.975</td>\n",
              "      <td>34.906</td>\n",
              "      <td>37.814</td>\n",
              "      <td>40.697</td>\n",
              "      <td>43.591</td>\n",
              "      <td>46.137</td>\n",
              "      <td>48.122</td>\n",
              "      <td>49.557</td>\n",
              "      <td>50.260</td>\n",
              "      <td>50.324</td>\n",
              "      <td>50.650</td>\n",
              "      <td>52.295</td>\n",
              "      <td>4469979.0</td>\n",
              "      <td>4713416.0</td>\n",
              "      <td>4919632.0</td>\n",
              "      <td>5127935.0</td>\n",
              "      <td>5433886.0</td>\n",
              "      <td>5889574.0</td>\n",
              "      <td>6634596.0</td>\n",
              "      <td>7586551.0</td>\n",
              "      <td>8878303.0</td>\n",
              "      <td>10352843.0</td>\n",
              "      <td>12251209</td>\n",
              "      <td>14326203</td>\n",
              "    </tr>\n",
              "  </tbody>\n",
              "</table>\n",
              "</div>\n",
              "      <button class=\"colab-df-convert\" onclick=\"convertToInteractive('df-3807488f-c3e0-47c1-a57c-19ce31e2ecb5')\"\n",
              "              title=\"Convert this dataframe to an interactive table.\"\n",
              "              style=\"display:none;\">\n",
              "        \n",
              "  <svg xmlns=\"http://www.w3.org/2000/svg\" height=\"24px\"viewBox=\"0 0 24 24\"\n",
              "       width=\"24px\">\n",
              "    <path d=\"M0 0h24v24H0V0z\" fill=\"none\"/>\n",
              "    <path d=\"M18.56 5.44l.94 2.06.94-2.06 2.06-.94-2.06-.94-.94-2.06-.94 2.06-2.06.94zm-11 1L8.5 8.5l.94-2.06 2.06-.94-2.06-.94L8.5 2.5l-.94 2.06-2.06.94zm10 10l.94 2.06.94-2.06 2.06-.94-2.06-.94-.94-2.06-.94 2.06-2.06.94z\"/><path d=\"M17.41 7.96l-1.37-1.37c-.4-.4-.92-.59-1.43-.59-.52 0-1.04.2-1.43.59L10.3 9.45l-7.72 7.72c-.78.78-.78 2.05 0 2.83L4 21.41c.39.39.9.59 1.41.59.51 0 1.02-.2 1.41-.59l7.78-7.78 2.81-2.81c.8-.78.8-2.07 0-2.86zM5.41 20L4 18.59l7.72-7.72 1.47 1.35L5.41 20z\"/>\n",
              "  </svg>\n",
              "      </button>\n",
              "      \n",
              "  <style>\n",
              "    .colab-df-container {\n",
              "      display:flex;\n",
              "      flex-wrap:wrap;\n",
              "      gap: 12px;\n",
              "    }\n",
              "\n",
              "    .colab-df-convert {\n",
              "      background-color: #E8F0FE;\n",
              "      border: none;\n",
              "      border-radius: 50%;\n",
              "      cursor: pointer;\n",
              "      display: none;\n",
              "      fill: #1967D2;\n",
              "      height: 32px;\n",
              "      padding: 0 0 0 0;\n",
              "      width: 32px;\n",
              "    }\n",
              "\n",
              "    .colab-df-convert:hover {\n",
              "      background-color: #E2EBFA;\n",
              "      box-shadow: 0px 1px 2px rgba(60, 64, 67, 0.3), 0px 1px 3px 1px rgba(60, 64, 67, 0.15);\n",
              "      fill: #174EA6;\n",
              "    }\n",
              "\n",
              "    [theme=dark] .colab-df-convert {\n",
              "      background-color: #3B4455;\n",
              "      fill: #D2E3FC;\n",
              "    }\n",
              "\n",
              "    [theme=dark] .colab-df-convert:hover {\n",
              "      background-color: #434B5C;\n",
              "      box-shadow: 0px 1px 3px 1px rgba(0, 0, 0, 0.15);\n",
              "      filter: drop-shadow(0px 1px 2px rgba(0, 0, 0, 0.3));\n",
              "      fill: #FFFFFF;\n",
              "    }\n",
              "  </style>\n",
              "\n",
              "      <script>\n",
              "        const buttonEl =\n",
              "          document.querySelector('#df-3807488f-c3e0-47c1-a57c-19ce31e2ecb5 button.colab-df-convert');\n",
              "        buttonEl.style.display =\n",
              "          google.colab.kernel.accessAllowed ? 'block' : 'none';\n",
              "\n",
              "        async function convertToInteractive(key) {\n",
              "          const element = document.querySelector('#df-3807488f-c3e0-47c1-a57c-19ce31e2ecb5');\n",
              "          const dataTable =\n",
              "            await google.colab.kernel.invokeFunction('convertToInteractive',\n",
              "                                                     [key], {});\n",
              "          if (!dataTable) return;\n",
              "\n",
              "          const docLinkHtml = 'Like what you see? Visit the ' +\n",
              "            '<a target=\"_blank\" href=https://colab.research.google.com/notebooks/data_table.ipynb>data table notebook</a>'\n",
              "            + ' to learn more about interactive tables.';\n",
              "          element.innerHTML = '';\n",
              "          dataTable['output_type'] = 'display_data';\n",
              "          await google.colab.output.renderOutput(dataTable, element);\n",
              "          const docLink = document.createElement('div');\n",
              "          docLink.innerHTML = docLinkHtml;\n",
              "          element.appendChild(docLink);\n",
              "        }\n",
              "      </script>\n",
              "    </div>\n",
              "  </div>\n",
              "  "
            ],
            "text/plain": [
              "  continent       country  gdpPercap_1952  ...    pop_1997  pop_2002  pop_2007\n",
              "0    Africa       Algeria     2449.008185  ...  29072015.0  31287142  33333216\n",
              "1    Africa        Angola     3520.610273  ...   9875024.0  10866106  12420476\n",
              "2    Africa         Benin     1062.752200  ...   6066080.0   7026113   8078314\n",
              "3    Africa      Botswana      851.241141  ...   1536536.0   1630347   1639131\n",
              "4    Africa  Burkina Faso      543.255241  ...  10352843.0  12251209  14326203\n",
              "\n",
              "[5 rows x 38 columns]"
            ]
          },
          "metadata": {},
          "execution_count": 2
        }
      ]
    },
    {
      "cell_type": "markdown",
      "source": [
        "## Git Integration\n",
        "\n",
        "Note that most system commands can be executed using the \n",
        "\n",
        "```\n",
        "! command\n",
        "```\n",
        "\n",
        "Including cloning git repositories! For instance:\n",
        "\n"
      ],
      "metadata": {
        "id": "zAE-AcD33xOH"
      }
    },
    {
      "cell_type": "code",
      "source": [
        "!git clone https://github.com/CarlyBobak/PSB2022Example\n"
      ],
      "metadata": {
        "colab": {
          "base_uri": "https://localhost:8080/"
        },
        "id": "tsBTtq-D36PF",
        "outputId": "5e1fdae0-11e7-488a-c9e0-a49978554092"
      },
      "execution_count": 4,
      "outputs": [
        {
          "output_type": "stream",
          "name": "stdout",
          "text": [
            "Cloning into 'PSB2022Example'...\n",
            "remote: Enumerating objects: 10, done.\u001b[K\n",
            "remote: Counting objects: 100% (10/10), done.\u001b[K\n",
            "remote: Compressing objects: 100% (9/9), done.\u001b[K\n",
            "remote: Total 10 (delta 1), reused 0 (delta 0), pack-reused 0\u001b[K\n",
            "Unpacking objects: 100% (10/10), done.\n"
          ]
        }
      ]
    },
    {
      "cell_type": "markdown",
      "source": [
        "And then to list all files we have access to:"
      ],
      "metadata": {
        "id": "k-mQd3U70xkE"
      }
    },
    {
      "cell_type": "code",
      "source": [
        "! ls"
      ],
      "metadata": {
        "colab": {
          "base_uri": "https://localhost:8080/"
        },
        "id": "R2APe6ttudxW",
        "outputId": "75682fc1-0da1-475c-df6b-0aae09576aa0"
      },
      "execution_count": 5,
      "outputs": [
        {
          "output_type": "stream",
          "name": "stdout",
          "text": [
            "drive  gapminder_all.csv  PSB2022Example  sample_data\n"
          ]
        }
      ]
    },
    {
      "cell_type": "markdown",
      "source": [
        "To then check out the git repo we cloned:"
      ],
      "metadata": {
        "id": "AlwYoYeW01-O"
      }
    },
    {
      "cell_type": "code",
      "source": [
        "% cd PSB2022Example\n",
        "! ls"
      ],
      "metadata": {
        "colab": {
          "base_uri": "https://localhost:8080/"
        },
        "id": "YEMGX9YCysUo",
        "outputId": "ca4f9efe-8df8-4df0-8083-9dfaac079928"
      },
      "execution_count": 37,
      "outputs": [
        {
          "output_type": "stream",
          "name": "stdout",
          "text": [
            "/content/PSB2022Example\n",
            "LICENSE  PSB2022Notebook.ipynb\tpythonscript.py  README.md\n"
          ]
        }
      ]
    },
    {
      "cell_type": "markdown",
      "source": [
        "Notice that now there is a python script as part of this repository. If we wanted to run a full python script that we coded elsewhere, we can use the following:"
      ],
      "metadata": {
        "id": "uIbYpmrM0muJ"
      }
    },
    {
      "cell_type": "code",
      "source": [
        "! python3 pythonscript.py"
      ],
      "metadata": {
        "colab": {
          "base_uri": "https://localhost:8080/"
        },
        "id": "vkOapsbLy0tP",
        "outputId": "a6ae1086-faa5-48e9-9c8c-593d58447bae"
      },
      "execution_count": 38,
      "outputs": [
        {
          "output_type": "stream",
          "name": "stdout",
          "text": [
            "Hello PSB2022\n"
          ]
        }
      ]
    },
    {
      "cell_type": "markdown",
      "source": [
        "To return to our main directory:"
      ],
      "metadata": {
        "id": "N01U6NGc1DrG"
      }
    },
    {
      "cell_type": "code",
      "source": [
        "% cd .."
      ],
      "metadata": {
        "colab": {
          "base_uri": "https://localhost:8080/"
        },
        "id": "anmZUHuq1DUz",
        "outputId": "90dc5079-1e6e-4723-f69e-f396fd5bd724"
      },
      "execution_count": 42,
      "outputs": [
        {
          "output_type": "stream",
          "name": "stdout",
          "text": [
            "\u001b[0m\u001b[01;34mPSB2022Example\u001b[0m/  \u001b[01;34msample_data\u001b[0m/\n"
          ]
        }
      ]
    },
    {
      "cell_type": "markdown",
      "source": [
        "Other system level commands can be used as well. Some examples include:"
      ],
      "metadata": {
        "id": "5YlN8ye14QLm"
      }
    },
    {
      "cell_type": "code",
      "source": [
        "! ls /bin"
      ],
      "metadata": {
        "colab": {
          "base_uri": "https://localhost:8080/"
        },
        "id": "SLcrNXe94UEc",
        "outputId": "a02be4d7-9eaa-430c-a985-be88f6b36109"
      },
      "execution_count": 20,
      "outputs": [
        {
          "output_type": "stream",
          "name": "stdout",
          "text": [
            "bash\t       hostname       su\n",
            "bunzip2        journalctl     sync\n",
            "bzcat\t       kill\t      systemctl\n",
            "bzcmp\t       kmod\t      systemd\n",
            "bzdiff\t       less\t      systemd-ask-password\n",
            "bzegrep        lessecho       systemd-escape\n",
            "bzexe\t       lessfile       systemd-hwdb\n",
            "bzfgrep        lesskey\t      systemd-inhibit\n",
            "bzgrep\t       lesspipe       systemd-machine-id-setup\n",
            "bzip2\t       ln\t      systemd-notify\n",
            "bzip2recover   login\t      systemd-sysusers\n",
            "bzless\t       loginctl       systemd-tmpfiles\n",
            "bzmore\t       ls\t      systemd-tty-ask-password-agent\n",
            "cat\t       lsblk\t      tar\n",
            "chgrp\t       lsmod\t      tempfile\n",
            "chmod\t       mkdir\t      touch\n",
            "chown\t       mknod\t      true\n",
            "cp\t       mktemp\t      udevadm\n",
            "dash\t       more\t      ulockmgr_server\n",
            "date\t       mount\t      umount\n",
            "dd\t       mountpoint     uname\n",
            "df\t       mv\t      uncompress\n",
            "dir\t       networkctl     vdir\n",
            "dmesg\t       nisdomainname  wdctl\n",
            "dnsdomainname  pidof\t      which\n",
            "domainname     ps\t      ypdomainname\n",
            "echo\t       pwd\t      zcat\n",
            "egrep\t       rbash\t      zcmp\n",
            "false\t       readlink       zdiff\n",
            "fgrep\t       rm\t      zegrep\n",
            "findmnt        rmdir\t      zfgrep\n",
            "fuser\t       run-parts      zforce\n",
            "fusermount     sed\t      zgrep\n",
            "grep\t       sh\t      zless\n",
            "gunzip\t       sh.distrib     zmore\n",
            "gzexe\t       sleep\t      znew\n",
            "gzip\t       stty\n"
          ]
        }
      ]
    },
    {
      "cell_type": "markdown",
      "source": [
        "## Mounting your Google Drive\n",
        "\n",
        "To have full access to the files in your Google Drive, you need to mount it first. To do this, go to \n",
        "\n",
        "> Tools > Command Palette\n",
        "\n",
        "and type \"mount\". Then run\n",
        "\n",
        "\n",
        "```\n",
        "from google.colab import drive\n",
        "drive.mount('/content/drive')\n",
        "```\n",
        "\n",
        "\n",
        "\n"
      ],
      "metadata": {
        "id": "ZEbAPTslvBAz"
      }
    },
    {
      "cell_type": "code",
      "source": [
        "from google.colab import drive\n",
        "\n",
        "drive.mount('/content/drive')\n",
        "\n",
        "#drive.flush_and_unmount() #to unmount your drive\n"
      ],
      "metadata": {
        "colab": {
          "base_uri": "https://localhost:8080/"
        },
        "id": "KnWZq8rVvd5C",
        "outputId": "901bb4f6-4aac-4d5b-e2af-11b667d849b8"
      },
      "execution_count": 43,
      "outputs": [
        {
          "output_type": "stream",
          "name": "stdout",
          "text": [
            "Mounted at /content/drive\n"
          ]
        }
      ]
    },
    {
      "cell_type": "markdown",
      "source": [
        "To then see all files, we can use the \n",
        "\n",
        "```\n",
        "!ls \n",
        "```\n",
        "command\n"
      ],
      "metadata": {
        "id": "flaQWRhgwGZQ"
      }
    },
    {
      "cell_type": "code",
      "source": [
        "!ls drive/MyDrive/Colab\\ Notebooks"
      ],
      "metadata": {
        "colab": {
          "base_uri": "https://localhost:8080/"
        },
        "id": "Icl5zEEjwPSs",
        "outputId": "23735ea4-cd7b-4f80-92ef-2991ac52cfd9"
      },
      "execution_count": 45,
      "outputs": [
        {
          "output_type": "stream",
          "name": "stdout",
          "text": [
            "'Carly 101 Final Exam.ipynb'\t\t\t      Untitled0.ipynb\n",
            "'Copy of PSB2022Notebook.ipynb'\t\t\t      Untitled1.ipynb\n",
            " PSB2022Notebook.ipynb\t\t\t\t      Untitled2.ipynb\n",
            " QBS101-W21-week8-assignment04-StudentVersion.ipynb   Untitled3.ipynb\n",
            " QBS101-week01-material.ipynb\n"
          ]
        }
      ]
    },
    {
      "cell_type": "markdown",
      "source": [
        "Now you could run any code, python notebook etc. that is in your google drive."
      ],
      "metadata": {
        "id": "hUZNQ04k2Cx6"
      }
    },
    {
      "cell_type": "markdown",
      "source": [
        "## Graphical Output\n",
        "\n",
        "One of the extremely useful functionalities of notebooks is their ability to display graphics in line with text and code! For instance:"
      ],
      "metadata": {
        "id": "v5ETZqr72s_Q"
      }
    },
    {
      "cell_type": "code",
      "source": [
        "import numpy as np\n",
        "import matplotlib.pyplot as plt\n",
        "\n",
        "y = np.random.randn(50)\n",
        "x = [x for x in range(len(y))]\n",
        "\n",
        "plt.plot(x,y)\n",
        "plt.title(\"My Sample Plot\")\n",
        "plt.show()"
      ],
      "metadata": {
        "colab": {
          "base_uri": "https://localhost:8080/",
          "height": 281
        },
        "id": "UhxPE5Xa30Ou",
        "outputId": "b71a916d-e335-4ed3-f268-4e515a38c00a"
      },
      "execution_count": 54,
      "outputs": [
        {
          "output_type": "display_data",
          "data": {
            "image/png": "[encoded data removed]",
            "text/plain": [
              "<Figure size 432x288 with 1 Axes>"
            ]
          },
          "metadata": {
            "needs_background": "light"
          }
        }
      ]
    },
    {
      "cell_type": "markdown",
      "source": [
        "And of course, here, we could add text interpretting and discussing the results of this plot in line!"
      ],
      "metadata": {
        "id": "mcYgzbmU5be8"
      }
    },
    {
      "cell_type": "markdown",
      "source": [
        "## Code Help\n",
        "\n",
        "One of the major reasons IDEs are widely used is the built in code help, and Colab is no different. \n",
        "\n",
        "To start exploring the functions available when we import a library, type a '.' after the library name. \n",
        "\n",
        "To see documentation on a function, type an open '('"
      ],
      "metadata": {
        "id": "iMxlUVwy5hWx"
      }
    },
    {
      "cell_type": "code",
      "source": [
        "np.absolute()"
      ],
      "metadata": {
        "id": "RSLLOspD6Uh8"
      },
      "execution_count": null,
      "outputs": []
    },
    {
      "cell_type": "markdown",
      "source": [
        "## Magics\n",
        "\n",
        "Magics are system commands! You saw this earlier when we were using \n",
        "\n",
        "```\n",
        "% cd\n",
        "```\n",
        "\n",
        " to change directories. There are two kinds of magics:\n",
        "\n",
        "\n",
        "1.   Line Magics\n",
        "2.   Cell Magics"
      ],
      "metadata": {
        "id": "AqZmKVcC6cHC"
      }
    },
    {
      "cell_type": "markdown",
      "source": [
        "### Line Magics\n",
        "\n",
        "\n",
        "\n",
        "```\n",
        "% cd\n",
        "```\n",
        "\n",
        "Is an example of a line magics, which are a magics which consist only of one line. A useful line magics example includes:"
      ],
      "metadata": {
        "id": "goa0KudT67nx"
      }
    },
    {
      "cell_type": "code",
      "source": [
        "% history"
      ],
      "metadata": {
        "colab": {
          "base_uri": "https://localhost:8080/"
        },
        "id": "jDdravSj66Wd",
        "outputId": "038ad045-4a88-4dd0-ce64-dff5a404e2cb"
      },
      "execution_count": 57,
      "outputs": [
        {
          "output_type": "stream",
          "name": "stdout",
          "text": [
            "! ls\n",
            "from google.colab import drive\n",
            "\n",
            "drive.mount('/content/drive')\n",
            "!ls\n",
            "!ls drive/PSB2022Example\n",
            "!ls drive\n",
            "!ls drive/MyDrive/PSB2022Example\n",
            "!ls drive/MyDrive\n",
            "!ls drive/MyDrive/Colab\\ Notebooks\n",
            "from google.colab import drive\n",
            "\n",
            "drive.mount('/content/drive')\n",
            "from google.colab import drive\n",
            "\n",
            "drive.mount('/content/drive')\n",
            "drive.flush_and_unmount()\n",
            "from google.colab import drive\n",
            "\n",
            "#drive.mount('/content/drive')\n",
            "\n",
            "drive.flush_and_unmount()\n",
            "from google.colab import drive\n",
            "\n",
            "drive.mount('/content/drive')\n",
            "\n",
            "#drive.flush_and_unmount() to unmount your drive\n",
            "!ls drive/MyDrive/\n",
            "!git clone https://github.com/CarlyBobak/PSB2022Example\n",
            "from google.colab import drive\n",
            "\n",
            "drive.mount('/content/drive')\n",
            "\n",
            "#drive.flush_and_unmount() to unmount your drive\n",
            "!git clone https://github.com/CarlyBobak/PSB2022Example\n",
            "!ls drive/MyDrive/\n",
            "!ls drive/MyDrive/Colab\\ Notebooks\n",
            "!pwd\n",
            "!ls /content\n",
            "from google.colab import drive\n",
            "\n",
            "#drive.mount('/content/drive')\n",
            "\n",
            "drive.flush_and_unmount() to unmount your drive\n",
            "from google.colab import drive\n",
            "\n",
            "#drive.mount('/content/drive')\n",
            "\n",
            "drive.flush_and_unmount() #to unmount your drive\n",
            "! rm -r PSB2022Example\n",
            "!ls /content\n",
            "!git clone https://github.com/CarlyBobak/PSB2022Example\n",
            "! ls\n",
            "! cd PSB2022Example/\n",
            "! cd PSB2022Example/\n",
            "! ls\n",
            "! cd PSB2022Example/\n",
            "! ls\n",
            "! cd PSB2022Example\n",
            "! ls\n",
            "% cd PSB2022Example\n",
            "! ls\n",
            "! rm -r PSB2022Example\n",
            "% cd ..\n",
            "! rm -r PSB2022Example\n",
            "!git clone https://github.com/CarlyBobak/PSB2022Example\n",
            "! ls\n",
            "% cd PSB2022Example\n",
            "! ls\n",
            "! python3 pythonscript.py\n",
            "% cd ..\n",
            "% cd content\n",
            "% cd /content\n",
            "% ls\n",
            "from google.colab import drive\n",
            "\n",
            "drive.mount('/content/drive')\n",
            "\n",
            "#drive.flush_and_unmount() #to unmount your drive\n",
            "!ls\n",
            "\n",
            "!ls drive/MyDrive/Colab\\ Notebooks\n",
            "import matplotlib.pyplot as plt\n",
            "\n",
            "data.plot.bar(x=\"continent\", y=\"gdpPercap_1987\", rot=70, title=\"GDP By Capita - Year 1987\");\n",
            "\n",
            "plot.show(block=True);\n",
            "import pandas as pd\n",
            "data=pd.read_csv(\"gapminder_all.csv\") #copy from above\n",
            "data.head(5)\n",
            "!wget https://rcweb.dartmouth.edu/homes/d35398e/data/gapminder/gapminder_all.csv\n",
            "import pandas as pd\n",
            "data=pd.read_csv(\"gapminder_all.csv\") #copy from above\n",
            "data.head(5)\n",
            "import matplotlib.pyplot as plt\n",
            "\n",
            "data.plot.bar(x=\"continent\", y=\"gdpPercap_1987\", rot=70, title=\"GDP By Capita - Year 1987\");\n",
            "\n",
            "plot.show(block=True);\n",
            "import matplotlib.pyplot as plt\n",
            "\n",
            "data.plt.bar(x=\"continent\", y=\"gdpPercap_1987\", rot=70, title=\"GDP By Capita - Year 1987\");\n",
            "\n",
            "plot.show(block=True);\n",
            "import matplotlib.pyplot as plt\n",
            "\n",
            "data.plot.bar(x=\"continent\", y=\"gdpPercap_1987\", rot=70, title=\"GDP By Capita - Year 1987\");\n",
            "\n",
            "plot.show(block=True);\n",
            "import numpy as np\n",
            "import matplotlib.pyplot as plt\n",
            "\n",
            "y = np.random.randn(50)\n",
            "x = [x for x in range(len(y))]\n",
            "\n",
            "plt.plot(x,y)\n",
            "plt.show()\n",
            "import numpy as np\n",
            "import matplotlib.pyplot as plt\n",
            "\n",
            "y = np.random.randn(50)\n",
            "x = [x for x in range(len(y))]\n",
            "\n",
            "plt.plot(x,y)\n",
            "plt.title(\"My Sample Plot\")\n",
            "plt.show()\n",
            "numpy.\n",
            "np.\n",
            "% history\n"
          ]
        }
      ]
    },
    {
      "cell_type": "markdown",
      "source": [
        "### Cell Magics\n",
        "\n",
        "Cell magics create a command that changes an entire cell, and need to be called using\n",
        "\n",
        "\n",
        "```\n",
        "%%\n",
        "```\n",
        "\n",
        "A useful example of this is to create a cell which compiles html."
      ],
      "metadata": {
        "id": "0Ae1AlI77KcA"
      }
    },
    {
      "cell_type": "code",
      "source": [
        "%%html\n",
        "\n",
        "<marquee style='width: 50%; color: Green;'><b> Software Packaging PSB 2022!</b></marquee>"
      ],
      "metadata": {
        "colab": {
          "base_uri": "https://localhost:8080/",
          "height": 39
        },
        "id": "nsyqGbKl7b_8",
        "outputId": "afe746de-53e4-45d3-f160-b2151a66ee10"
      },
      "execution_count": 59,
      "outputs": [
        {
          "output_type": "display_data",
          "data": {
            "text/html": [
              "\n",
              "<marquee style='width: 50%; color: Green;'><b> Software Package PSB 2022!</b></marquee>"
            ],
            "text/plain": [
              "<IPython.core.display.HTML object>"
            ]
          },
          "metadata": {}
        }
      ]
    },
    {
      "cell_type": "markdown",
      "source": [
        "To see all possible magics, try:"
      ],
      "metadata": {
        "id": "mudaFcKN77xP"
      }
    },
    {
      "cell_type": "code",
      "source": [
        "%lsmagic"
      ],
      "metadata": {
        "colab": {
          "base_uri": "https://localhost:8080/",
          "height": 159
        },
        "id": "eqj7Ilkm7-Z6",
        "outputId": "2b889c89-4f9a-4d19-c8e5-3acc4a8ce949"
      },
      "execution_count": 60,
      "outputs": [
        {
          "output_type": "execute_result",
          "data": {
            "application/json": {
              "cell": {
                "prun": "ExecutionMagics",
                "file": "Other",
                "!": "OSMagics",
                "capture": "ExecutionMagics",
                "timeit": "ExecutionMagics",
                "script": "ScriptMagics",
                "pypy": "Other",
                "system": "OSMagics",
                "perl": "Other",
                "html": "DisplayMagics",
                "bash": "Other",
                "shell": "Other",
                "HTML": "Other",
                "python": "Other",
                "SVG": "Other",
                "javascript": "DisplayMagics",
                "bigquery": "Other",
                "js": "DisplayMagics",
                "writefile": "OSMagics",
                "ruby": "Other",
                "python3": "Other",
                "python2": "Other",
                "latex": "DisplayMagics",
                "sx": "OSMagics",
                "svg": "DisplayMagics",
                "sh": "Other",
                "time": "ExecutionMagics",
                "debug": "ExecutionMagics"
              },
              "line": {
                "psource": "NamespaceMagics",
                "logstart": "LoggingMagics",
                "popd": "OSMagics",
                "tensorflow_version": "Other",
                "loadpy": "CodeMagics",
                "colors": "BasicMagics",
                "who_ls": "NamespaceMagics",
                "lf": "Other",
                "ll": "Other",
                "pprint": "BasicMagics",
                "lk": "Other",
                "ls": "Other",
                "save": "CodeMagics",
                "tb": "ExecutionMagics",
                "lx": "Other",
                "pylab": "PylabMagics",
                "killbgscripts": "ScriptMagics",
                "quickref": "BasicMagics",
                "magic": "BasicMagics",
                "dhist": "OSMagics",
                "edit": "KernelMagics",
                "logstop": "LoggingMagics",
                "gui": "BasicMagics",
                "prun": "ExecutionMagics",
                "debug": "ExecutionMagics",
                "page": "BasicMagics",
                "logstate": "LoggingMagics",
                "ed": "Other",
                "pushd": "OSMagics",
                "timeit": "ExecutionMagics",
                "set_env": "OSMagics",
                "rehashx": "OSMagics",
                "hist": "Other",
                "qtconsole": "KernelMagics",
                "rm": "Other",
                "dirs": "OSMagics",
                "run": "ExecutionMagics",
                "reset_selective": "NamespaceMagics",
                "pinfo2": "NamespaceMagics",
                "matplotlib": "PylabMagics",
                "unload_ext": "ExtensionMagics",
                "doctest_mode": "BasicMagics",
                "logoff": "LoggingMagics",
                "reload_ext": "ExtensionMagics",
                "pdb": "ExecutionMagics",
                "load": "CodeMagics",
                "lsmagic": "BasicMagics",
                "autosave": "KernelMagics",
                "cd": "OSMagics",
                "pastebin": "CodeMagics",
                "alias_magic": "BasicMagics",
                "cp": "Other",
                "autocall": "AutoMagics",
                "ldir": "Other",
                "bookmark": "OSMagics",
                "connect_info": "KernelMagics",
                "mkdir": "Other",
                "system": "OSMagics",
                "whos": "NamespaceMagics",
                "rmdir": "Other",
                "automagic": "AutoMagics",
                "store": "StoreMagics",
                "more": "KernelMagics",
                "shell": "Other",
                "pdef": "NamespaceMagics",
                "precision": "BasicMagics",
                "pinfo": "NamespaceMagics",
                "pwd": "OSMagics",
                "psearch": "NamespaceMagics",
                "reset": "NamespaceMagics",
                "recall": "HistoryMagics",
                "xdel": "NamespaceMagics",
                "xmode": "BasicMagics",
                "cat": "Other",
                "mv": "Other",
                "rerun": "HistoryMagics",
                "logon": "LoggingMagics",
                "history": "HistoryMagics",
                "pycat": "OSMagics",
                "pip": "Other",
                "unalias": "OSMagics",
                "env": "OSMagics",
                "load_ext": "ExtensionMagics",
                "config": "ConfigMagics",
                "profile": "BasicMagics",
                "pfile": "NamespaceMagics",
                "less": "KernelMagics",
                "who": "NamespaceMagics",
                "notebook": "BasicMagics",
                "man": "KernelMagics",
                "sx": "OSMagics",
                "macro": "ExecutionMagics",
                "clear": "KernelMagics",
                "alias": "OSMagics",
                "time": "ExecutionMagics",
                "sc": "OSMagics",
                "rep": "Other",
                "pdoc": "NamespaceMagics"
              }
            },
            "text/plain": [
              "Available line magics:\n",
              "%alias  %alias_magic  %autocall  %automagic  %autosave  %bookmark  %cat  %cd  %clear  %colors  %config  %connect_info  %cp  %debug  %dhist  %dirs  %doctest_mode  %ed  %edit  %env  %gui  %hist  %history  %killbgscripts  %ldir  %less  %lf  %lk  %ll  %load  %load_ext  %loadpy  %logoff  %logon  %logstart  %logstate  %logstop  %ls  %lsmagic  %lx  %macro  %magic  %man  %matplotlib  %mkdir  %more  %mv  %notebook  %page  %pastebin  %pdb  %pdef  %pdoc  %pfile  %pinfo  %pinfo2  %pip  %popd  %pprint  %precision  %profile  %prun  %psearch  %psource  %pushd  %pwd  %pycat  %pylab  %qtconsole  %quickref  %recall  %rehashx  %reload_ext  %rep  %rerun  %reset  %reset_selective  %rm  %rmdir  %run  %save  %sc  %set_env  %shell  %store  %sx  %system  %tb  %tensorflow_version  %time  %timeit  %unalias  %unload_ext  %who  %who_ls  %whos  %xdel  %xmode\n",
              "\n",
              "Available cell magics:\n",
              "%%!  %%HTML  %%SVG  %%bash  %%bigquery  %%capture  %%debug  %%file  %%html  %%javascript  %%js  %%latex  %%perl  %%prun  %%pypy  %%python  %%python2  %%python3  %%ruby  %%script  %%sh  %%shell  %%svg  %%sx  %%system  %%time  %%timeit  %%writefile\n",
              "\n",
              "Automagic is ON, % prefix IS NOT needed for line magics."
            ]
          },
          "metadata": {},
          "execution_count": 60
        }
      ]
    }
  ]
}